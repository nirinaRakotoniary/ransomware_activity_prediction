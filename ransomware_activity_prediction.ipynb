{
  "nbformat": 4,
  "nbformat_minor": 0,
  "metadata": {
    "colab": {
      "provenance": []
    },
    "kernelspec": {
      "name": "python3",
      "display_name": "Python 3"
    },
    "language_info": {
      "name": "python"
    }
  },
  "cells": [
    {
      "cell_type": "markdown",
      "source": [
        "**Importation des bibliothèques necéssaires pour la prédiction de Ransomware**\n",
        "\n"
      ],
      "metadata": {
        "id": "SRila1XJEnuA"
      }
    },
    {
      "cell_type": "code",
      "execution_count": null,
      "metadata": {
        "id": "lb8M6xqW1emE"
      },
      "outputs": [],
      "source": [
        "import pandas as pd\n",
        "import glob\n",
        "from sklearn.tree import DecisionTreeRegressor\n",
        "from sklearn.model_selection import train_test_split\n",
        "from sklearn.metrics import accuracy_score, precision_score, recall_score, f1_score, confusion_matrix, classification_report"
      ]
    },
    {
      "cell_type": "markdown",
      "source": [
        "Importer les datasets et les concatener dans un seul dataframe\n",
        "Ajouter à l'en-tête les noms des colonnes"
      ],
      "metadata": {
        "id": "hpR8MDesFNs7"
      }
    },
    {
      "cell_type": "code",
      "source": [
        "files = glob.glob(\"*.csv\")\n",
        "column_names = [\"UNIX time in sec\", \"UNIX time in ns\", \"LBA\", \"size\", \"Entropy #1\", \"Entropy #2\"]\n",
        "df = pd.DataFrame(columns=column_names)\n",
        "for fl in files :\n",
        "  single_df = pd.read_csv(fl, names=column_names)\n",
        "  df = pd.concat([df, single_df], ignore_index=True)"
      ],
      "metadata": {
        "id": "ZsDDpbHE12GY"
      },
      "execution_count": null,
      "outputs": []
    },
    {
      "cell_type": "markdown",
      "source": [
        "Ajouter une colonne supplémentaire `is_ransomware` qu'on va utiliser comme target. On a choisit le seuil 0.2 pour décider que c'est un ransomware ou pas. Si la moyenne des deux entropies dépasse ce seuil, c'est un ransomware."
      ],
      "metadata": {
        "id": "jF5TlOolFfZc"
      }
    },
    {
      "cell_type": "code",
      "source": [
        "df[\"is_ransomware\"] = 0\n",
        "df.loc[(df[\"Entropy #1\"] + df[\"Entropy #2\"] > 0.2), \"is_ransomware\"]=1"
      ],
      "metadata": {
        "id": "VVlwDOAa4GqC"
      },
      "execution_count": null,
      "outputs": []
    },
    {
      "cell_type": "markdown",
      "source": [
        "Choix de target et features"
      ],
      "metadata": {
        "id": "3x3Nn9QIGAIJ"
      }
    },
    {
      "cell_type": "code",
      "source": [
        "y = df.is_ransomware\n",
        "features = [\"UNIX time in sec\", \"UNIX time in ns\", \"LBA\", \"size\", \"Entropy #1\", \"Entropy #2\"]\n",
        "X = df[features]"
      ],
      "metadata": {
        "id": "euj3nC4k5Jz5"
      },
      "execution_count": null,
      "outputs": []
    },
    {
      "cell_type": "markdown",
      "source": [
        "**Splitting the dataset**\n",
        "On divise le dataset en 3 parties, 70% pour le training, 15% pour validation et 15% pour le testing"
      ],
      "metadata": {
        "id": "cVsVDzTsGGdq"
      }
    },
    {
      "cell_type": "code",
      "source": [
        "X_train_temp, X_test, y_train_temp, y_test = train_test_split(X, y, test_size=0.3, random_state=42)\n",
        "X_train, X_val, y_train, y_val = train_test_split(X_train_temp, y_train_temp, test_size=0.5, random_state=42)"
      ],
      "metadata": {
        "id": "IzMVHCrk78X0"
      },
      "execution_count": null,
      "outputs": []
    },
    {
      "cell_type": "markdown",
      "source": [
        "Création du modèle en utilisant **DecisionTreeRegressor**\n",
        "Etape de **training**"
      ],
      "metadata": {
        "id": "Rhp_k8PLGb_U"
      }
    },
    {
      "cell_type": "code",
      "source": [
        "rsm_model = DecisionTreeRegressor()\n",
        "rsm_model.fit(X_train, y_train)"
      ],
      "metadata": {
        "colab": {
          "base_uri": "https://localhost:8080/",
          "height": 74
        },
        "id": "o-c9Z3os9NGG",
        "outputId": "663da1d8-3347-40dc-a68a-f04ba62aa11a"
      },
      "execution_count": null,
      "outputs": [
        {
          "output_type": "execute_result",
          "data": {
            "text/plain": [
              "DecisionTreeRegressor()"
            ],
            "text/html": [
              "<style>#sk-container-id-10 {color: black;background-color: white;}#sk-container-id-10 pre{padding: 0;}#sk-container-id-10 div.sk-toggleable {background-color: white;}#sk-container-id-10 label.sk-toggleable__label {cursor: pointer;display: block;width: 100%;margin-bottom: 0;padding: 0.3em;box-sizing: border-box;text-align: center;}#sk-container-id-10 label.sk-toggleable__label-arrow:before {content: \"▸\";float: left;margin-right: 0.25em;color: #696969;}#sk-container-id-10 label.sk-toggleable__label-arrow:hover:before {color: black;}#sk-container-id-10 div.sk-estimator:hover label.sk-toggleable__label-arrow:before {color: black;}#sk-container-id-10 div.sk-toggleable__content {max-height: 0;max-width: 0;overflow: hidden;text-align: left;background-color: #f0f8ff;}#sk-container-id-10 div.sk-toggleable__content pre {margin: 0.2em;color: black;border-radius: 0.25em;background-color: #f0f8ff;}#sk-container-id-10 input.sk-toggleable__control:checked~div.sk-toggleable__content {max-height: 200px;max-width: 100%;overflow: auto;}#sk-container-id-10 input.sk-toggleable__control:checked~label.sk-toggleable__label-arrow:before {content: \"▾\";}#sk-container-id-10 div.sk-estimator input.sk-toggleable__control:checked~label.sk-toggleable__label {background-color: #d4ebff;}#sk-container-id-10 div.sk-label input.sk-toggleable__control:checked~label.sk-toggleable__label {background-color: #d4ebff;}#sk-container-id-10 input.sk-hidden--visually {border: 0;clip: rect(1px 1px 1px 1px);clip: rect(1px, 1px, 1px, 1px);height: 1px;margin: -1px;overflow: hidden;padding: 0;position: absolute;width: 1px;}#sk-container-id-10 div.sk-estimator {font-family: monospace;background-color: #f0f8ff;border: 1px dotted black;border-radius: 0.25em;box-sizing: border-box;margin-bottom: 0.5em;}#sk-container-id-10 div.sk-estimator:hover {background-color: #d4ebff;}#sk-container-id-10 div.sk-parallel-item::after {content: \"\";width: 100%;border-bottom: 1px solid gray;flex-grow: 1;}#sk-container-id-10 div.sk-label:hover label.sk-toggleable__label {background-color: #d4ebff;}#sk-container-id-10 div.sk-serial::before {content: \"\";position: absolute;border-left: 1px solid gray;box-sizing: border-box;top: 0;bottom: 0;left: 50%;z-index: 0;}#sk-container-id-10 div.sk-serial {display: flex;flex-direction: column;align-items: center;background-color: white;padding-right: 0.2em;padding-left: 0.2em;position: relative;}#sk-container-id-10 div.sk-item {position: relative;z-index: 1;}#sk-container-id-10 div.sk-parallel {display: flex;align-items: stretch;justify-content: center;background-color: white;position: relative;}#sk-container-id-10 div.sk-item::before, #sk-container-id-10 div.sk-parallel-item::before {content: \"\";position: absolute;border-left: 1px solid gray;box-sizing: border-box;top: 0;bottom: 0;left: 50%;z-index: -1;}#sk-container-id-10 div.sk-parallel-item {display: flex;flex-direction: column;z-index: 1;position: relative;background-color: white;}#sk-container-id-10 div.sk-parallel-item:first-child::after {align-self: flex-end;width: 50%;}#sk-container-id-10 div.sk-parallel-item:last-child::after {align-self: flex-start;width: 50%;}#sk-container-id-10 div.sk-parallel-item:only-child::after {width: 0;}#sk-container-id-10 div.sk-dashed-wrapped {border: 1px dashed gray;margin: 0 0.4em 0.5em 0.4em;box-sizing: border-box;padding-bottom: 0.4em;background-color: white;}#sk-container-id-10 div.sk-label label {font-family: monospace;font-weight: bold;display: inline-block;line-height: 1.2em;}#sk-container-id-10 div.sk-label-container {text-align: center;}#sk-container-id-10 div.sk-container {/* jupyter's `normalize.less` sets `[hidden] { display: none; }` but bootstrap.min.css set `[hidden] { display: none !important; }` so we also need the `!important` here to be able to override the default hidden behavior on the sphinx rendered scikit-learn.org. See: https://github.com/scikit-learn/scikit-learn/issues/21755 */display: inline-block !important;position: relative;}#sk-container-id-10 div.sk-text-repr-fallback {display: none;}</style><div id=\"sk-container-id-10\" class=\"sk-top-container\"><div class=\"sk-text-repr-fallback\"><pre>DecisionTreeRegressor()</pre><b>In a Jupyter environment, please rerun this cell to show the HTML representation or trust the notebook. <br />On GitHub, the HTML representation is unable to render, please try loading this page with nbviewer.org.</b></div><div class=\"sk-container\" hidden><div class=\"sk-item\"><div class=\"sk-estimator sk-toggleable\"><input class=\"sk-toggleable__control sk-hidden--visually\" id=\"sk-estimator-id-10\" type=\"checkbox\" checked><label for=\"sk-estimator-id-10\" class=\"sk-toggleable__label sk-toggleable__label-arrow\">DecisionTreeRegressor</label><div class=\"sk-toggleable__content\"><pre>DecisionTreeRegressor()</pre></div></div></div></div></div>"
            ]
          },
          "metadata": {},
          "execution_count": 98
        }
      ]
    },
    {
      "cell_type": "markdown",
      "source": [
        "Etape de **validation**"
      ],
      "metadata": {
        "id": "1i7w-MDlGUxH"
      }
    },
    {
      "cell_type": "code",
      "source": [
        "y_val_pred = rsm_model.predict(X_val)"
      ],
      "metadata": {
        "id": "dLvSbnjz99E1"
      },
      "execution_count": null,
      "outputs": []
    },
    {
      "cell_type": "markdown",
      "source": [
        "Calcul des performance de la validation"
      ],
      "metadata": {
        "id": "C_egZfo2EXBR"
      }
    },
    {
      "cell_type": "code",
      "source": [
        "val_accuracy = accuracy_score(y_val, y_val_pred)\n",
        "val_precision = precision_score(y_val, y_val_pred)\n",
        "val_recall = recall_score(y_val, y_val_pred)\n",
        "val_f1 = f1_score(y_val, y_val_pred)\n",
        "\n",
        "print(\"Validation Accuracy:\", val_accuracy)\n",
        "print(\"Validation Precision:\", val_precision)\n",
        "print(\"Validation Recall:\", val_recall)\n",
        "print(\"Validation F1-score:\", val_f1)"
      ],
      "metadata": {
        "colab": {
          "base_uri": "https://localhost:8080/"
        },
        "id": "_QC7SZu0BF_Y",
        "outputId": "c1bcec4f-658a-45dc-da1f-41059dfadcdb"
      },
      "execution_count": null,
      "outputs": [
        {
          "output_type": "stream",
          "name": "stdout",
          "text": [
            "Validation Accuracy: 0.9998399343730929\n",
            "Validation Precision: 0.9998511643010811\n",
            "Validation Recall: 0.9999323419168888\n",
            "Validation F1-score: 0.9998917514613552\n"
          ]
        }
      ]
    },
    {
      "cell_type": "markdown",
      "source": [
        "Etape de **test** et calcul de performance"
      ],
      "metadata": {
        "id": "UJxW8EklHDf9"
      }
    },
    {
      "cell_type": "code",
      "source": [
        "y_test_pred = rsm_model.predict(X_test)\n",
        "\n",
        "test_accuracy = accuracy_score(y_test, y_test_pred)\n",
        "test_precision = precision_score(y_test, y_test_pred)\n",
        "test_recall = recall_score(y_test, y_test_pred)\n",
        "test_f1 = f1_score(y_test, y_test_pred)\n",
        "\n",
        "conf_matrix = confusion_matrix(y_test, y_test_pred)\n",
        "classification_rep = classification_report(y_test, y_test_pred)\n",
        "\n",
        "# Display test set metrics\n",
        "print(\"\\nTest Accuracy:\", test_accuracy)\n",
        "print(\"Test Precision:\", test_precision)\n",
        "print(\"Test Recall:\", test_recall)\n",
        "print(\"Test F1-score:\", test_f1)\n",
        "\n",
        "print(\"\\nConfusion Matrix:\\n\", conf_matrix)\n",
        "print(\"\\nClassification Report:\\n\", classification_rep)"
      ],
      "metadata": {
        "colab": {
          "base_uri": "https://localhost:8080/"
        },
        "id": "N4LwmPPVBSJd",
        "outputId": "0efff401-19e0-4bac-c508-db6424de7662"
      },
      "execution_count": null,
      "outputs": [
        {
          "output_type": "stream",
          "name": "stdout",
          "text": [
            "\n",
            "Test Accuracy: 0.9998949567571984\n",
            "Test Precision: 0.9998901909109448\n",
            "Test Recall: 0.999968623513539\n",
            "Test F1-score: 0.9999294056742151\n",
            "\n",
            "Confusion Matrix:\n",
            " [[21930     7]\n",
            " [    2 63740]]\n",
            "\n",
            "Classification Report:\n",
            "               precision    recall  f1-score   support\n",
            "\n",
            "           0       1.00      1.00      1.00     21937\n",
            "           1       1.00      1.00      1.00     63742\n",
            "\n",
            "    accuracy                           1.00     85679\n",
            "   macro avg       1.00      1.00      1.00     85679\n",
            "weighted avg       1.00      1.00      1.00     85679\n",
            "\n"
          ]
        }
      ]
    }
  ]
}